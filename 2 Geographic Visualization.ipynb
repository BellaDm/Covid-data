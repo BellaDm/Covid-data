{
 "cells": [
  {
   "cell_type": "markdown",
   "metadata": {},
   "source": [
    "# 6.3 Geographic Visualization "
   ]
  },
  {
   "cell_type": "markdown",
   "metadata": {},
   "source": [
    "### This script contains the following:\n",
    "#### 1. Importing data and libraries\n",
    "#### 2. Data wrangling and merging\n",
    "#### 3. Data cleaning\n",
    "#### 4. Plotting a choropleth\n",
    "##### A. Using Geoplot\n",
    "##### B. Using matplotlib\n",
    "\n"
   ]
  },
  {
   "cell_type": "markdown",
   "metadata": {},
   "source": [
    "### 1. Importing data and libraries"
   ]
  },
  {
   "cell_type": "code",
   "execution_count": 1,
   "metadata": {},
   "outputs": [],
   "source": [
    "import pandas as pd\n",
    "import numpy as np\n",
    "import seaborn as sns\n",
    "import matplotlib.pyplot as plt\n",
    "import matplotlib\n",
    "import os\n",
    "import geopandas as gpd\n",
    "import geoplot"
   ]
  },
  {
   "cell_type": "code",
   "execution_count": 2,
   "metadata": {},
   "outputs": [],
   "source": [
    "# This command prompts matplotlib visuals to appear in the notebook.\n",
    "\n",
    "%matplotlib inline"
   ]
  },
  {
   "cell_type": "code",
   "execution_count": 3,
   "metadata": {},
   "outputs": [],
   "source": [
    "path = 'C:/Users/asus/Documents/Career Foundry/Achievement 6'"
   ]
  },
  {
   "cell_type": "code",
   "execution_count": 4,
   "metadata": {},
   "outputs": [],
   "source": [
    "# Import \".shp\" file for the U.S. shape outline using the Geopandas `read_csv` command.\n",
    "\n",
    "usa = gpd.read_file(os.path.join(path, '6.3 Images & Assets', 'Data', 'USA_States.shp'))"
   ]
  },
  {
   "cell_type": "code",
   "execution_count": 5,
   "metadata": {},
   "outputs": [
    {
     "data": {
      "text/html": [
       "<div>\n",
       "<style scoped>\n",
       "    .dataframe tbody tr th:only-of-type {\n",
       "        vertical-align: middle;\n",
       "    }\n",
       "\n",
       "    .dataframe tbody tr th {\n",
       "        vertical-align: top;\n",
       "    }\n",
       "\n",
       "    .dataframe thead th {\n",
       "        text-align: right;\n",
       "    }\n",
       "</style>\n",
       "<table border=\"1\" class=\"dataframe\">\n",
       "  <thead>\n",
       "    <tr style=\"text-align: right;\">\n",
       "      <th></th>\n",
       "      <th>STATE_NAME</th>\n",
       "      <th>STATE_FIPS</th>\n",
       "      <th>STATE_ABBR</th>\n",
       "      <th>geometry</th>\n",
       "    </tr>\n",
       "  </thead>\n",
       "  <tbody>\n",
       "    <tr>\n",
       "      <th>0</th>\n",
       "      <td>Washington</td>\n",
       "      <td>53</td>\n",
       "      <td>WA</td>\n",
       "      <td>MULTIPOLYGON (((-122.40202 48.22522, -122.4628...</td>\n",
       "    </tr>\n",
       "    <tr>\n",
       "      <th>1</th>\n",
       "      <td>Montana</td>\n",
       "      <td>30</td>\n",
       "      <td>MT</td>\n",
       "      <td>POLYGON ((-111.47543 44.70216, -111.48080 44.6...</td>\n",
       "    </tr>\n",
       "    <tr>\n",
       "      <th>2</th>\n",
       "      <td>Maine</td>\n",
       "      <td>23</td>\n",
       "      <td>ME</td>\n",
       "      <td>MULTIPOLYGON (((-69.77728 44.07415, -69.85993 ...</td>\n",
       "    </tr>\n",
       "    <tr>\n",
       "      <th>3</th>\n",
       "      <td>North Dakota</td>\n",
       "      <td>38</td>\n",
       "      <td>ND</td>\n",
       "      <td>POLYGON ((-98.73044 45.93827, -99.00683 45.939...</td>\n",
       "    </tr>\n",
       "    <tr>\n",
       "      <th>4</th>\n",
       "      <td>South Dakota</td>\n",
       "      <td>46</td>\n",
       "      <td>SD</td>\n",
       "      <td>POLYGON ((-102.78838 42.99530, -103.00588 42.9...</td>\n",
       "    </tr>\n",
       "  </tbody>\n",
       "</table>\n",
       "</div>"
      ],
      "text/plain": [
       "     STATE_NAME STATE_FIPS STATE_ABBR  \\\n",
       "0    Washington         53         WA   \n",
       "1       Montana         30         MT   \n",
       "2         Maine         23         ME   \n",
       "3  North Dakota         38         ND   \n",
       "4  South Dakota         46         SD   \n",
       "\n",
       "                                            geometry  \n",
       "0  MULTIPOLYGON (((-122.40202 48.22522, -122.4628...  \n",
       "1  POLYGON ((-111.47543 44.70216, -111.48080 44.6...  \n",
       "2  MULTIPOLYGON (((-69.77728 44.07415, -69.85993 ...  \n",
       "3  POLYGON ((-98.73044 45.93827, -99.00683 45.939...  \n",
       "4  POLYGON ((-102.78838 42.99530, -103.00588 42.9...  "
      ]
     },
     "execution_count": 5,
     "metadata": {},
     "output_type": "execute_result"
    }
   ],
   "source": [
    "# View the head of the new Geodataframe.\n",
    "\n",
    "usa.head()"
   ]
  },
  {
   "cell_type": "code",
   "execution_count": 7,
   "metadata": {},
   "outputs": [],
   "source": [
    "# Import the recipes data.\n",
    "\n",
    "df = pd.read_csv(os.path.join(path, '6.3 Images & Assets', 'Data', 'recipes.csv'))"
   ]
  },
  {
   "cell_type": "code",
   "execution_count": 8,
   "metadata": {},
   "outputs": [
    {
     "data": {
      "text/html": [
       "<div>\n",
       "<style scoped>\n",
       "    .dataframe tbody tr th:only-of-type {\n",
       "        vertical-align: middle;\n",
       "    }\n",
       "\n",
       "    .dataframe tbody tr th {\n",
       "        vertical-align: top;\n",
       "    }\n",
       "\n",
       "    .dataframe thead th {\n",
       "        text-align: right;\n",
       "    }\n",
       "</style>\n",
       "<table border=\"1\" class=\"dataframe\">\n",
       "  <thead>\n",
       "    <tr style=\"text-align: right;\">\n",
       "      <th></th>\n",
       "      <th>title</th>\n",
       "      <th>rating</th>\n",
       "      <th>calories</th>\n",
       "      <th>protein</th>\n",
       "      <th>fat</th>\n",
       "      <th>sodium</th>\n",
       "      <th>#cakeweek</th>\n",
       "      <th>#wasteless</th>\n",
       "      <th>22-minute meals</th>\n",
       "      <th>3-ingredient recipes</th>\n",
       "      <th>...</th>\n",
       "      <th>yellow squash</th>\n",
       "      <th>yogurt</th>\n",
       "      <th>yonkers</th>\n",
       "      <th>yuca</th>\n",
       "      <th>zucchini</th>\n",
       "      <th>cookbooks</th>\n",
       "      <th>leftovers</th>\n",
       "      <th>snack</th>\n",
       "      <th>snack week</th>\n",
       "      <th>turkey</th>\n",
       "    </tr>\n",
       "  </thead>\n",
       "  <tbody>\n",
       "    <tr>\n",
       "      <th>0</th>\n",
       "      <td>Lentil, Apple, and Turkey Wrap</td>\n",
       "      <td>2.500</td>\n",
       "      <td>426.0</td>\n",
       "      <td>30.0</td>\n",
       "      <td>7.0</td>\n",
       "      <td>559.0</td>\n",
       "      <td>0.0</td>\n",
       "      <td>0.0</td>\n",
       "      <td>0.0</td>\n",
       "      <td>0.0</td>\n",
       "      <td>...</td>\n",
       "      <td>0.0</td>\n",
       "      <td>0.0</td>\n",
       "      <td>0.0</td>\n",
       "      <td>0.0</td>\n",
       "      <td>0.0</td>\n",
       "      <td>0.0</td>\n",
       "      <td>0.0</td>\n",
       "      <td>0.0</td>\n",
       "      <td>0.0</td>\n",
       "      <td>1.0</td>\n",
       "    </tr>\n",
       "    <tr>\n",
       "      <th>1</th>\n",
       "      <td>Boudin Blanc Terrine with Red Onion Confit</td>\n",
       "      <td>4.375</td>\n",
       "      <td>403.0</td>\n",
       "      <td>18.0</td>\n",
       "      <td>23.0</td>\n",
       "      <td>1439.0</td>\n",
       "      <td>0.0</td>\n",
       "      <td>0.0</td>\n",
       "      <td>0.0</td>\n",
       "      <td>0.0</td>\n",
       "      <td>...</td>\n",
       "      <td>0.0</td>\n",
       "      <td>0.0</td>\n",
       "      <td>0.0</td>\n",
       "      <td>0.0</td>\n",
       "      <td>0.0</td>\n",
       "      <td>0.0</td>\n",
       "      <td>0.0</td>\n",
       "      <td>0.0</td>\n",
       "      <td>0.0</td>\n",
       "      <td>0.0</td>\n",
       "    </tr>\n",
       "    <tr>\n",
       "      <th>2</th>\n",
       "      <td>Potato and Fennel Soup Hodge</td>\n",
       "      <td>3.750</td>\n",
       "      <td>165.0</td>\n",
       "      <td>6.0</td>\n",
       "      <td>7.0</td>\n",
       "      <td>165.0</td>\n",
       "      <td>0.0</td>\n",
       "      <td>0.0</td>\n",
       "      <td>0.0</td>\n",
       "      <td>0.0</td>\n",
       "      <td>...</td>\n",
       "      <td>0.0</td>\n",
       "      <td>0.0</td>\n",
       "      <td>0.0</td>\n",
       "      <td>0.0</td>\n",
       "      <td>0.0</td>\n",
       "      <td>0.0</td>\n",
       "      <td>0.0</td>\n",
       "      <td>0.0</td>\n",
       "      <td>0.0</td>\n",
       "      <td>0.0</td>\n",
       "    </tr>\n",
       "    <tr>\n",
       "      <th>3</th>\n",
       "      <td>Mahi-Mahi in Tomato Olive Sauce</td>\n",
       "      <td>5.000</td>\n",
       "      <td>NaN</td>\n",
       "      <td>NaN</td>\n",
       "      <td>NaN</td>\n",
       "      <td>NaN</td>\n",
       "      <td>0.0</td>\n",
       "      <td>0.0</td>\n",
       "      <td>0.0</td>\n",
       "      <td>0.0</td>\n",
       "      <td>...</td>\n",
       "      <td>0.0</td>\n",
       "      <td>0.0</td>\n",
       "      <td>0.0</td>\n",
       "      <td>0.0</td>\n",
       "      <td>0.0</td>\n",
       "      <td>0.0</td>\n",
       "      <td>0.0</td>\n",
       "      <td>0.0</td>\n",
       "      <td>0.0</td>\n",
       "      <td>0.0</td>\n",
       "    </tr>\n",
       "    <tr>\n",
       "      <th>4</th>\n",
       "      <td>Spinach Noodle Casserole</td>\n",
       "      <td>3.125</td>\n",
       "      <td>547.0</td>\n",
       "      <td>20.0</td>\n",
       "      <td>32.0</td>\n",
       "      <td>452.0</td>\n",
       "      <td>0.0</td>\n",
       "      <td>0.0</td>\n",
       "      <td>0.0</td>\n",
       "      <td>0.0</td>\n",
       "      <td>...</td>\n",
       "      <td>0.0</td>\n",
       "      <td>0.0</td>\n",
       "      <td>0.0</td>\n",
       "      <td>0.0</td>\n",
       "      <td>0.0</td>\n",
       "      <td>0.0</td>\n",
       "      <td>0.0</td>\n",
       "      <td>0.0</td>\n",
       "      <td>0.0</td>\n",
       "      <td>0.0</td>\n",
       "    </tr>\n",
       "  </tbody>\n",
       "</table>\n",
       "<p>5 rows × 680 columns</p>\n",
       "</div>"
      ],
      "text/plain": [
       "                                         title  rating  calories  protein  \\\n",
       "0              Lentil, Apple, and Turkey Wrap    2.500     426.0     30.0   \n",
       "1  Boudin Blanc Terrine with Red Onion Confit    4.375     403.0     18.0   \n",
       "2                Potato and Fennel Soup Hodge    3.750     165.0      6.0   \n",
       "3             Mahi-Mahi in Tomato Olive Sauce    5.000       NaN      NaN   \n",
       "4                    Spinach Noodle Casserole    3.125     547.0     20.0   \n",
       "\n",
       "    fat  sodium  #cakeweek  #wasteless  22-minute meals  3-ingredient recipes  \\\n",
       "0   7.0   559.0        0.0         0.0              0.0                   0.0   \n",
       "1  23.0  1439.0        0.0         0.0              0.0                   0.0   \n",
       "2   7.0   165.0        0.0         0.0              0.0                   0.0   \n",
       "3   NaN     NaN        0.0         0.0              0.0                   0.0   \n",
       "4  32.0   452.0        0.0         0.0              0.0                   0.0   \n",
       "\n",
       "   ...  yellow squash  yogurt  yonkers  yuca  zucchini  cookbooks  leftovers  \\\n",
       "0  ...            0.0     0.0      0.0   0.0       0.0        0.0        0.0   \n",
       "1  ...            0.0     0.0      0.0   0.0       0.0        0.0        0.0   \n",
       "2  ...            0.0     0.0      0.0   0.0       0.0        0.0        0.0   \n",
       "3  ...            0.0     0.0      0.0   0.0       0.0        0.0        0.0   \n",
       "4  ...            0.0     0.0      0.0   0.0       0.0        0.0        0.0   \n",
       "\n",
       "   snack  snack week  turkey  \n",
       "0    0.0         0.0     1.0  \n",
       "1    0.0         0.0     0.0  \n",
       "2    0.0         0.0     0.0  \n",
       "3    0.0         0.0     0.0  \n",
       "4    0.0         0.0     0.0  \n",
       "\n",
       "[5 rows x 680 columns]"
      ]
     },
     "execution_count": 8,
     "metadata": {},
     "output_type": "execute_result"
    }
   ],
   "source": [
    "df.head()"
   ]
  },
  {
   "cell_type": "code",
   "execution_count": 9,
   "metadata": {},
   "outputs": [
    {
     "data": {
      "text/plain": [
       "(20052, 680)"
      ]
     },
     "execution_count": 9,
     "metadata": {},
     "output_type": "execute_result"
    }
   ],
   "source": [
    "df.shape"
   ]
  },
  {
   "cell_type": "markdown",
   "metadata": {},
   "source": [
    "### 2. Data wrangling and merging"
   ]
  },
  {
   "cell_type": "markdown",
   "metadata": {},
   "source": [
    "##### Fix dummy columns"
   ]
  },
  {
   "cell_type": "code",
   "execution_count": 10,
   "metadata": {},
   "outputs": [],
   "source": [
    "# Select only the necessary columns and put them in a list called columns.\n",
    "\n",
    "columns = [\"alabama\",\n",
    "\"alaska\",\n",
    "\"arizona\",\n",
    "\"california\",\n",
    "\"colorado\",\n",
    "\"connecticut\",\n",
    "\"florida\",\n",
    "\"georgia\",\n",
    "\"hawaii\",\n",
    "\"idaho\",\n",
    "\"illinois\",\n",
    "\"indiana\",\n",
    "\"iowa\",\n",
    "\"kansas\",\n",
    "\"kentucky\",\n",
    "\"louisiana\",\n",
    "\"maine\",\n",
    "\"maryland\",\n",
    "\"massachusetts\",\n",
    "\"michigan\",\n",
    "\"minnesota\",\n",
    "\"mississippi\",\n",
    "\"missouri\",\n",
    "\"nebraska\",\n",
    "\"new hampshire\",\n",
    "\"new jersey\",\n",
    "\"new mexico\",\n",
    "\"new york\",\n",
    "\"north carolina\",\n",
    "\"ohio\",\n",
    "\"oklahoma\",\n",
    "\"oregon\",\n",
    "\"pennsylvania\",\n",
    "\"rhode island\",\n",
    "\"south carolina\",\n",
    "\"tennessee\",\n",
    "\"texas\",\n",
    "\"utah\",\n",
    "\"vermont\",\n",
    "\"virginia\",\n",
    "\"washington\",\n",
    "\"west virginia\",\n",
    "\"wisconsin\",\n",
    "\"title\",\n",
    "\"rating\",\n",
    "\"calories\",\n",
    "\"protein\",\n",
    "\"fat\",\n",
    "\"sodium\"\n",
    "]"
   ]
  },
  {
   "cell_type": "code",
   "execution_count": 11,
   "metadata": {},
   "outputs": [],
   "source": [
    "# Create a subset.\n",
    "\n",
    "state_rec = df[columns]"
   ]
  },
  {
   "cell_type": "code",
   "execution_count": 12,
   "metadata": {},
   "outputs": [
    {
     "data": {
      "text/html": [
       "<div>\n",
       "<style scoped>\n",
       "    .dataframe tbody tr th:only-of-type {\n",
       "        vertical-align: middle;\n",
       "    }\n",
       "\n",
       "    .dataframe tbody tr th {\n",
       "        vertical-align: top;\n",
       "    }\n",
       "\n",
       "    .dataframe thead th {\n",
       "        text-align: right;\n",
       "    }\n",
       "</style>\n",
       "<table border=\"1\" class=\"dataframe\">\n",
       "  <thead>\n",
       "    <tr style=\"text-align: right;\">\n",
       "      <th></th>\n",
       "      <th>alabama</th>\n",
       "      <th>alaska</th>\n",
       "      <th>arizona</th>\n",
       "      <th>california</th>\n",
       "      <th>colorado</th>\n",
       "      <th>connecticut</th>\n",
       "      <th>florida</th>\n",
       "      <th>georgia</th>\n",
       "      <th>hawaii</th>\n",
       "      <th>idaho</th>\n",
       "      <th>...</th>\n",
       "      <th>virginia</th>\n",
       "      <th>washington</th>\n",
       "      <th>west virginia</th>\n",
       "      <th>wisconsin</th>\n",
       "      <th>title</th>\n",
       "      <th>rating</th>\n",
       "      <th>calories</th>\n",
       "      <th>protein</th>\n",
       "      <th>fat</th>\n",
       "      <th>sodium</th>\n",
       "    </tr>\n",
       "  </thead>\n",
       "  <tbody>\n",
       "    <tr>\n",
       "      <th>0</th>\n",
       "      <td>0.0</td>\n",
       "      <td>0.0</td>\n",
       "      <td>0.0</td>\n",
       "      <td>0.0</td>\n",
       "      <td>0.0</td>\n",
       "      <td>0.0</td>\n",
       "      <td>0.0</td>\n",
       "      <td>0.0</td>\n",
       "      <td>0.0</td>\n",
       "      <td>0.0</td>\n",
       "      <td>...</td>\n",
       "      <td>0.0</td>\n",
       "      <td>0.0</td>\n",
       "      <td>0.0</td>\n",
       "      <td>0.0</td>\n",
       "      <td>Lentil, Apple, and Turkey Wrap</td>\n",
       "      <td>2.500</td>\n",
       "      <td>426.0</td>\n",
       "      <td>30.0</td>\n",
       "      <td>7.0</td>\n",
       "      <td>559.0</td>\n",
       "    </tr>\n",
       "    <tr>\n",
       "      <th>1</th>\n",
       "      <td>0.0</td>\n",
       "      <td>0.0</td>\n",
       "      <td>0.0</td>\n",
       "      <td>0.0</td>\n",
       "      <td>0.0</td>\n",
       "      <td>0.0</td>\n",
       "      <td>0.0</td>\n",
       "      <td>0.0</td>\n",
       "      <td>0.0</td>\n",
       "      <td>0.0</td>\n",
       "      <td>...</td>\n",
       "      <td>0.0</td>\n",
       "      <td>0.0</td>\n",
       "      <td>0.0</td>\n",
       "      <td>0.0</td>\n",
       "      <td>Boudin Blanc Terrine with Red Onion Confit</td>\n",
       "      <td>4.375</td>\n",
       "      <td>403.0</td>\n",
       "      <td>18.0</td>\n",
       "      <td>23.0</td>\n",
       "      <td>1439.0</td>\n",
       "    </tr>\n",
       "    <tr>\n",
       "      <th>2</th>\n",
       "      <td>0.0</td>\n",
       "      <td>0.0</td>\n",
       "      <td>0.0</td>\n",
       "      <td>0.0</td>\n",
       "      <td>0.0</td>\n",
       "      <td>0.0</td>\n",
       "      <td>0.0</td>\n",
       "      <td>0.0</td>\n",
       "      <td>0.0</td>\n",
       "      <td>0.0</td>\n",
       "      <td>...</td>\n",
       "      <td>0.0</td>\n",
       "      <td>0.0</td>\n",
       "      <td>0.0</td>\n",
       "      <td>0.0</td>\n",
       "      <td>Potato and Fennel Soup Hodge</td>\n",
       "      <td>3.750</td>\n",
       "      <td>165.0</td>\n",
       "      <td>6.0</td>\n",
       "      <td>7.0</td>\n",
       "      <td>165.0</td>\n",
       "    </tr>\n",
       "    <tr>\n",
       "      <th>3</th>\n",
       "      <td>0.0</td>\n",
       "      <td>0.0</td>\n",
       "      <td>0.0</td>\n",
       "      <td>0.0</td>\n",
       "      <td>0.0</td>\n",
       "      <td>0.0</td>\n",
       "      <td>0.0</td>\n",
       "      <td>0.0</td>\n",
       "      <td>0.0</td>\n",
       "      <td>0.0</td>\n",
       "      <td>...</td>\n",
       "      <td>0.0</td>\n",
       "      <td>0.0</td>\n",
       "      <td>0.0</td>\n",
       "      <td>0.0</td>\n",
       "      <td>Mahi-Mahi in Tomato Olive Sauce</td>\n",
       "      <td>5.000</td>\n",
       "      <td>NaN</td>\n",
       "      <td>NaN</td>\n",
       "      <td>NaN</td>\n",
       "      <td>NaN</td>\n",
       "    </tr>\n",
       "    <tr>\n",
       "      <th>4</th>\n",
       "      <td>0.0</td>\n",
       "      <td>0.0</td>\n",
       "      <td>0.0</td>\n",
       "      <td>1.0</td>\n",
       "      <td>0.0</td>\n",
       "      <td>0.0</td>\n",
       "      <td>0.0</td>\n",
       "      <td>0.0</td>\n",
       "      <td>0.0</td>\n",
       "      <td>0.0</td>\n",
       "      <td>...</td>\n",
       "      <td>0.0</td>\n",
       "      <td>0.0</td>\n",
       "      <td>0.0</td>\n",
       "      <td>0.0</td>\n",
       "      <td>Spinach Noodle Casserole</td>\n",
       "      <td>3.125</td>\n",
       "      <td>547.0</td>\n",
       "      <td>20.0</td>\n",
       "      <td>32.0</td>\n",
       "      <td>452.0</td>\n",
       "    </tr>\n",
       "  </tbody>\n",
       "</table>\n",
       "<p>5 rows × 49 columns</p>\n",
       "</div>"
      ],
      "text/plain": [
       "   alabama  alaska  arizona  california  colorado  connecticut  florida  \\\n",
       "0      0.0     0.0      0.0         0.0       0.0          0.0      0.0   \n",
       "1      0.0     0.0      0.0         0.0       0.0          0.0      0.0   \n",
       "2      0.0     0.0      0.0         0.0       0.0          0.0      0.0   \n",
       "3      0.0     0.0      0.0         0.0       0.0          0.0      0.0   \n",
       "4      0.0     0.0      0.0         1.0       0.0          0.0      0.0   \n",
       "\n",
       "   georgia  hawaii  idaho  ...  virginia  washington  west virginia  \\\n",
       "0      0.0     0.0    0.0  ...       0.0         0.0            0.0   \n",
       "1      0.0     0.0    0.0  ...       0.0         0.0            0.0   \n",
       "2      0.0     0.0    0.0  ...       0.0         0.0            0.0   \n",
       "3      0.0     0.0    0.0  ...       0.0         0.0            0.0   \n",
       "4      0.0     0.0    0.0  ...       0.0         0.0            0.0   \n",
       "\n",
       "   wisconsin                                        title  rating  calories  \\\n",
       "0        0.0              Lentil, Apple, and Turkey Wrap    2.500     426.0   \n",
       "1        0.0  Boudin Blanc Terrine with Red Onion Confit    4.375     403.0   \n",
       "2        0.0                Potato and Fennel Soup Hodge    3.750     165.0   \n",
       "3        0.0             Mahi-Mahi in Tomato Olive Sauce    5.000       NaN   \n",
       "4        0.0                    Spinach Noodle Casserole    3.125     547.0   \n",
       "\n",
       "   protein   fat  sodium  \n",
       "0     30.0   7.0   559.0  \n",
       "1     18.0  23.0  1439.0  \n",
       "2      6.0   7.0   165.0  \n",
       "3      NaN   NaN     NaN  \n",
       "4     20.0  32.0   452.0  \n",
       "\n",
       "[5 rows x 49 columns]"
      ]
     },
     "execution_count": 12,
     "metadata": {},
     "output_type": "execute_result"
    }
   ],
   "source": [
    "state_rec.head()"
   ]
  },
  {
   "cell_type": "code",
   "execution_count": 13,
   "metadata": {},
   "outputs": [],
   "source": [
    "# Select only the states from `state_rec` in a new subset.\n",
    "\n",
    "states_num = state_rec[[\"alabama\",\n",
    "\"alaska\",\n",
    "\"arizona\",\n",
    "\"california\",\n",
    "\"colorado\",\n",
    "\"connecticut\",\n",
    "\"florida\",\n",
    "\"georgia\",\n",
    "\"hawaii\",\n",
    "\"idaho\",\n",
    "\"illinois\",\n",
    "\"indiana\",\n",
    "\"iowa\",\n",
    "\"kansas\",\n",
    "\"kentucky\",\n",
    "\"louisiana\",\n",
    "\"maine\",\n",
    "\"maryland\",\n",
    "\"massachusetts\",\n",
    "\"michigan\",\n",
    "\"minnesota\",\n",
    "\"mississippi\",\n",
    "\"missouri\",\n",
    "\"nebraska\",\n",
    "\"new hampshire\",\n",
    "\"new jersey\",\n",
    "\"new mexico\",\n",
    "\"new york\",\n",
    "\"north carolina\",\n",
    "\"ohio\",\n",
    "\"oklahoma\",\n",
    "\"oregon\",\n",
    "\"pennsylvania\",\n",
    "\"rhode island\",\n",
    "\"south carolina\",\n",
    "\"tennessee\",\n",
    "\"texas\",\n",
    "\"utah\",\n",
    "\"vermont\",\n",
    "\"virginia\",\n",
    "\"washington\",\n",
    "\"west virginia\",\n",
    "\"wisconsin\"]]"
   ]
  },
  {
   "cell_type": "code",
   "execution_count": 14,
   "metadata": {},
   "outputs": [],
   "source": [
    "# This command turns the dummy data from the states columns into a categorical variable in s2, which is a pandas series data structure.\n",
    "\n",
    "s2 = states_num.idxmax(axis=1)\n",
    "\n",
    "# You haven't encountered series yet. Just know that it's another type of data structure in pandas. It's similar to a dataframe but \n",
    "# differs in that it's one-dimensional. This means it can only have one column, whereas a dataframe has (at least) two, making it\n",
    "# two-dimensional. You can turn any dataframe column into a series, and you can add any series to a dataframe as a column!"
   ]
  },
  {
   "cell_type": "code",
   "execution_count": 15,
   "metadata": {},
   "outputs": [
    {
     "data": {
      "text/plain": [
       "0           alabama\n",
       "1           alabama\n",
       "2          new york\n",
       "3           alabama\n",
       "4        california\n",
       "            ...    \n",
       "20047       alabama\n",
       "20048       alabama\n",
       "20049       alabama\n",
       "20050       alabama\n",
       "20051       alabama\n",
       "Length: 20052, dtype: object"
      ]
     },
     "execution_count": 15,
     "metadata": {},
     "output_type": "execute_result"
    }
   ],
   "source": [
    "s2"
   ]
  },
  {
   "cell_type": "code",
   "execution_count": 16,
   "metadata": {},
   "outputs": [
    {
     "data": {
      "text/plain": [
       "pandas.core.series.Series"
      ]
     },
     "execution_count": 16,
     "metadata": {},
     "output_type": "execute_result"
    }
   ],
   "source": [
    "type(s2)"
   ]
  },
  {
   "cell_type": "code",
   "execution_count": 17,
   "metadata": {},
   "outputs": [
    {
     "name": "stderr",
     "output_type": "stream",
     "text": [
      "C:\\Users\\asus\\Anaconda3\\lib\\site-packages\\ipykernel_launcher.py:3: SettingWithCopyWarning: \n",
      "A value is trying to be set on a copy of a slice from a DataFrame.\n",
      "Try using .loc[row_indexer,col_indexer] = value instead\n",
      "\n",
      "See the caveats in the documentation: https://pandas.pydata.org/pandas-docs/stable/user_guide/indexing.html#returning-a-view-versus-a-copy\n",
      "  This is separate from the ipykernel package so we can avoid doing imports until\n"
     ]
    }
   ],
   "source": [
    "# Create new column \"state\" in the `state_rec` dataframe.\n",
    "\n",
    "state_rec['STATE_NAME'] = s2"
   ]
  },
  {
   "cell_type": "code",
   "execution_count": 18,
   "metadata": {},
   "outputs": [
    {
     "data": {
      "text/plain": [
       "Index(['alabama', 'alaska', 'arizona', 'california', 'colorado', 'connecticut',\n",
       "       'florida', 'georgia', 'hawaii', 'idaho', 'illinois', 'indiana', 'iowa',\n",
       "       'kansas', 'kentucky', 'louisiana', 'maine', 'maryland', 'massachusetts',\n",
       "       'michigan', 'minnesota', 'mississippi', 'missouri', 'nebraska',\n",
       "       'new hampshire', 'new jersey', 'new mexico', 'new york',\n",
       "       'north carolina', 'ohio', 'oklahoma', 'oregon', 'pennsylvania',\n",
       "       'rhode island', 'south carolina', 'tennessee', 'texas', 'utah',\n",
       "       'vermont', 'virginia', 'washington', 'west virginia', 'wisconsin',\n",
       "       'title', 'rating', 'calories', 'protein', 'fat', 'sodium',\n",
       "       'STATE_NAME'],\n",
       "      dtype='object')"
      ]
     },
     "execution_count": 18,
     "metadata": {},
     "output_type": "execute_result"
    }
   ],
   "source": [
    "state_rec.columns"
   ]
  },
  {
   "cell_type": "code",
   "execution_count": 19,
   "metadata": {},
   "outputs": [
    {
     "name": "stderr",
     "output_type": "stream",
     "text": [
      "C:\\Users\\asus\\Anaconda3\\lib\\site-packages\\pandas\\core\\frame.py:3997: SettingWithCopyWarning: \n",
      "A value is trying to be set on a copy of a slice from a DataFrame\n",
      "\n",
      "See the caveats in the documentation: https://pandas.pydata.org/pandas-docs/stable/user_guide/indexing.html#returning-a-view-versus-a-copy\n",
      "  errors=errors,\n"
     ]
    }
   ],
   "source": [
    "# Drop the dummy columns from the dataframe.\n",
    "\n",
    "state_rec.drop(columns = [\"alabama\",\n",
    "\"alaska\",\n",
    "\"arizona\",\n",
    "\"california\",\n",
    "\"colorado\",\n",
    "\"connecticut\",\n",
    "\"florida\",\n",
    "\"georgia\",\n",
    "\"hawaii\",\n",
    "\"idaho\",\n",
    "\"illinois\",\n",
    "\"indiana\",\n",
    "\"iowa\",\n",
    "\"kansas\",\n",
    "\"kentucky\",\n",
    "\"louisiana\",\n",
    "\"maine\",\n",
    "\"maryland\",\n",
    "\"massachusetts\",\n",
    "\"michigan\",\n",
    "\"minnesota\",\n",
    "\"mississippi\",\n",
    "\"missouri\",\n",
    "\"nebraska\",\n",
    "\"new hampshire\",\n",
    "\"new jersey\",\n",
    "\"new mexico\",\n",
    "\"new york\",\n",
    "\"north carolina\",\n",
    "\"ohio\",\n",
    "\"oklahoma\",\n",
    "\"oregon\",\n",
    "\"pennsylvania\",\n",
    "\"rhode island\",\n",
    "\"south carolina\",\n",
    "\"tennessee\",\n",
    "\"texas\",\n",
    "\"utah\",\n",
    "\"vermont\",\n",
    "\"virginia\",\n",
    "\"washington\",\n",
    "\"west virginia\",\n",
    "\"wisconsin\"], inplace = True)"
   ]
  },
  {
   "cell_type": "code",
   "execution_count": 20,
   "metadata": {},
   "outputs": [
    {
     "data": {
      "text/plain": [
       "Index(['title', 'rating', 'calories', 'protein', 'fat', 'sodium',\n",
       "       'STATE_NAME'],\n",
       "      dtype='object')"
      ]
     },
     "execution_count": 20,
     "metadata": {},
     "output_type": "execute_result"
    }
   ],
   "source": [
    "state_rec.columns"
   ]
  },
  {
   "cell_type": "code",
   "execution_count": 21,
   "metadata": {},
   "outputs": [],
   "source": [
    "# The state names in the U.S. Geodataframe need to be transformed into lowercase so that they match the names\n",
    "# in the recipes dataframe.\n",
    "\n",
    "usa['STATE_NAME'] = usa['STATE_NAME'].str.lower()"
   ]
  },
  {
   "cell_type": "code",
   "execution_count": 22,
   "metadata": {},
   "outputs": [
    {
     "data": {
      "text/html": [
       "<div>\n",
       "<style scoped>\n",
       "    .dataframe tbody tr th:only-of-type {\n",
       "        vertical-align: middle;\n",
       "    }\n",
       "\n",
       "    .dataframe tbody tr th {\n",
       "        vertical-align: top;\n",
       "    }\n",
       "\n",
       "    .dataframe thead th {\n",
       "        text-align: right;\n",
       "    }\n",
       "</style>\n",
       "<table border=\"1\" class=\"dataframe\">\n",
       "  <thead>\n",
       "    <tr style=\"text-align: right;\">\n",
       "      <th></th>\n",
       "      <th>STATE_NAME</th>\n",
       "      <th>STATE_FIPS</th>\n",
       "      <th>STATE_ABBR</th>\n",
       "      <th>geometry</th>\n",
       "    </tr>\n",
       "  </thead>\n",
       "  <tbody>\n",
       "    <tr>\n",
       "      <th>0</th>\n",
       "      <td>washington</td>\n",
       "      <td>53</td>\n",
       "      <td>WA</td>\n",
       "      <td>MULTIPOLYGON (((-122.40202 48.22522, -122.4628...</td>\n",
       "    </tr>\n",
       "    <tr>\n",
       "      <th>1</th>\n",
       "      <td>montana</td>\n",
       "      <td>30</td>\n",
       "      <td>MT</td>\n",
       "      <td>POLYGON ((-111.47543 44.70216, -111.48080 44.6...</td>\n",
       "    </tr>\n",
       "    <tr>\n",
       "      <th>2</th>\n",
       "      <td>maine</td>\n",
       "      <td>23</td>\n",
       "      <td>ME</td>\n",
       "      <td>MULTIPOLYGON (((-69.77728 44.07415, -69.85993 ...</td>\n",
       "    </tr>\n",
       "    <tr>\n",
       "      <th>3</th>\n",
       "      <td>north dakota</td>\n",
       "      <td>38</td>\n",
       "      <td>ND</td>\n",
       "      <td>POLYGON ((-98.73044 45.93827, -99.00683 45.939...</td>\n",
       "    </tr>\n",
       "    <tr>\n",
       "      <th>4</th>\n",
       "      <td>south dakota</td>\n",
       "      <td>46</td>\n",
       "      <td>SD</td>\n",
       "      <td>POLYGON ((-102.78838 42.99530, -103.00588 42.9...</td>\n",
       "    </tr>\n",
       "  </tbody>\n",
       "</table>\n",
       "</div>"
      ],
      "text/plain": [
       "     STATE_NAME STATE_FIPS STATE_ABBR  \\\n",
       "0    washington         53         WA   \n",
       "1       montana         30         MT   \n",
       "2         maine         23         ME   \n",
       "3  north dakota         38         ND   \n",
       "4  south dakota         46         SD   \n",
       "\n",
       "                                            geometry  \n",
       "0  MULTIPOLYGON (((-122.40202 48.22522, -122.4628...  \n",
       "1  POLYGON ((-111.47543 44.70216, -111.48080 44.6...  \n",
       "2  MULTIPOLYGON (((-69.77728 44.07415, -69.85993 ...  \n",
       "3  POLYGON ((-98.73044 45.93827, -99.00683 45.939...  \n",
       "4  POLYGON ((-102.78838 42.99530, -103.00588 42.9...  "
      ]
     },
     "execution_count": 22,
     "metadata": {},
     "output_type": "execute_result"
    }
   ],
   "source": [
    "usa.head()"
   ]
  },
  {
   "cell_type": "markdown",
   "metadata": {},
   "source": [
    "##### Merge dataframes into a single Geodataframe"
   ]
  },
  {
   "cell_type": "code",
   "execution_count": 23,
   "metadata": {},
   "outputs": [],
   "source": [
    "# Merge both dataframes on the \"STATE_NAME\" column.\n",
    "\n",
    "# NB: You need to merge the recipes dataframe INTO the GeoDataFrame; otherwise, the output will be a pandas dataframe rather \n",
    "# than a Geopandas dataframe.\n",
    "\n",
    "usa_m = usa.merge(state_rec, on = 'STATE_NAME', how = 'outer', indicator = True)"
   ]
  },
  {
   "cell_type": "code",
   "execution_count": 24,
   "metadata": {},
   "outputs": [
    {
     "data": {
      "text/plain": [
       "geopandas.geodataframe.GeoDataFrame"
      ]
     },
     "execution_count": 24,
     "metadata": {},
     "output_type": "execute_result"
    }
   ],
   "source": [
    "type(usa_m)"
   ]
  },
  {
   "cell_type": "code",
   "execution_count": 25,
   "metadata": {},
   "outputs": [
    {
     "data": {
      "text/plain": [
       "(20060, 11)"
      ]
     },
     "execution_count": 25,
     "metadata": {},
     "output_type": "execute_result"
    }
   ],
   "source": [
    "usa_m.shape"
   ]
  },
  {
   "cell_type": "code",
   "execution_count": 26,
   "metadata": {
    "scrolled": true
   },
   "outputs": [
    {
     "data": {
      "text/plain": [
       "both          20052\n",
       "left_only         8\n",
       "right_only        0\n",
       "Name: _merge, dtype: int64"
      ]
     },
     "execution_count": 26,
     "metadata": {},
     "output_type": "execute_result"
    }
   ],
   "source": [
    "usa_m['_merge'].value_counts()"
   ]
  },
  {
   "cell_type": "code",
   "execution_count": 27,
   "metadata": {},
   "outputs": [
    {
     "data": {
      "text/html": [
       "<div>\n",
       "<style scoped>\n",
       "    .dataframe tbody tr th:only-of-type {\n",
       "        vertical-align: middle;\n",
       "    }\n",
       "\n",
       "    .dataframe tbody tr th {\n",
       "        vertical-align: top;\n",
       "    }\n",
       "\n",
       "    .dataframe thead th {\n",
       "        text-align: right;\n",
       "    }\n",
       "</style>\n",
       "<table border=\"1\" class=\"dataframe\">\n",
       "  <thead>\n",
       "    <tr style=\"text-align: right;\">\n",
       "      <th></th>\n",
       "      <th>STATE_NAME</th>\n",
       "      <th>STATE_FIPS</th>\n",
       "      <th>STATE_ABBR</th>\n",
       "      <th>geometry</th>\n",
       "      <th>title</th>\n",
       "      <th>rating</th>\n",
       "      <th>calories</th>\n",
       "      <th>protein</th>\n",
       "      <th>fat</th>\n",
       "      <th>sodium</th>\n",
       "      <th>_merge</th>\n",
       "    </tr>\n",
       "  </thead>\n",
       "  <tbody>\n",
       "    <tr>\n",
       "      <th>0</th>\n",
       "      <td>washington</td>\n",
       "      <td>53</td>\n",
       "      <td>WA</td>\n",
       "      <td>MULTIPOLYGON (((-122.40202 48.22522, -122.4628...</td>\n",
       "      <td>Cornmeal Waffles</td>\n",
       "      <td>1.875</td>\n",
       "      <td>NaN</td>\n",
       "      <td>NaN</td>\n",
       "      <td>NaN</td>\n",
       "      <td>NaN</td>\n",
       "      <td>both</td>\n",
       "    </tr>\n",
       "    <tr>\n",
       "      <th>1</th>\n",
       "      <td>washington</td>\n",
       "      <td>53</td>\n",
       "      <td>WA</td>\n",
       "      <td>MULTIPOLYGON (((-122.40202 48.22522, -122.4628...</td>\n",
       "      <td>Chicken Enchiladas</td>\n",
       "      <td>4.375</td>\n",
       "      <td>532.0</td>\n",
       "      <td>25.0</td>\n",
       "      <td>32.0</td>\n",
       "      <td>1329.0</td>\n",
       "      <td>both</td>\n",
       "    </tr>\n",
       "    <tr>\n",
       "      <th>2</th>\n",
       "      <td>washington</td>\n",
       "      <td>53</td>\n",
       "      <td>WA</td>\n",
       "      <td>MULTIPOLYGON (((-122.40202 48.22522, -122.4628...</td>\n",
       "      <td>Risotto with Chicken and Beet Greens Stalker</td>\n",
       "      <td>3.750</td>\n",
       "      <td>557.0</td>\n",
       "      <td>29.0</td>\n",
       "      <td>18.0</td>\n",
       "      <td>511.0</td>\n",
       "      <td>both</td>\n",
       "    </tr>\n",
       "    <tr>\n",
       "      <th>3</th>\n",
       "      <td>washington</td>\n",
       "      <td>53</td>\n",
       "      <td>WA</td>\n",
       "      <td>MULTIPOLYGON (((-122.40202 48.22522, -122.4628...</td>\n",
       "      <td>Roast Goose with Garlic, Onion and Sage Stuffing</td>\n",
       "      <td>3.125</td>\n",
       "      <td>8603.0</td>\n",
       "      <td>13.0</td>\n",
       "      <td>923.0</td>\n",
       "      <td>1401.0</td>\n",
       "      <td>both</td>\n",
       "    </tr>\n",
       "    <tr>\n",
       "      <th>4</th>\n",
       "      <td>washington</td>\n",
       "      <td>53</td>\n",
       "      <td>WA</td>\n",
       "      <td>MULTIPOLYGON (((-122.40202 48.22522, -122.4628...</td>\n",
       "      <td>Ham and Sage Ponice</td>\n",
       "      <td>2.500</td>\n",
       "      <td>273.0</td>\n",
       "      <td>19.0</td>\n",
       "      <td>10.0</td>\n",
       "      <td>629.0</td>\n",
       "      <td>both</td>\n",
       "    </tr>\n",
       "  </tbody>\n",
       "</table>\n",
       "</div>"
      ],
      "text/plain": [
       "   STATE_NAME STATE_FIPS STATE_ABBR  \\\n",
       "0  washington         53         WA   \n",
       "1  washington         53         WA   \n",
       "2  washington         53         WA   \n",
       "3  washington         53         WA   \n",
       "4  washington         53         WA   \n",
       "\n",
       "                                            geometry  \\\n",
       "0  MULTIPOLYGON (((-122.40202 48.22522, -122.4628...   \n",
       "1  MULTIPOLYGON (((-122.40202 48.22522, -122.4628...   \n",
       "2  MULTIPOLYGON (((-122.40202 48.22522, -122.4628...   \n",
       "3  MULTIPOLYGON (((-122.40202 48.22522, -122.4628...   \n",
       "4  MULTIPOLYGON (((-122.40202 48.22522, -122.4628...   \n",
       "\n",
       "                                               title  rating  calories  \\\n",
       "0                                  Cornmeal Waffles    1.875       NaN   \n",
       "1                                Chicken Enchiladas    4.375     532.0   \n",
       "2      Risotto with Chicken and Beet Greens Stalker    3.750     557.0   \n",
       "3  Roast Goose with Garlic, Onion and Sage Stuffing    3.125    8603.0   \n",
       "4                               Ham and Sage Ponice    2.500     273.0   \n",
       "\n",
       "   protein    fat  sodium _merge  \n",
       "0      NaN    NaN     NaN   both  \n",
       "1     25.0   32.0  1329.0   both  \n",
       "2     29.0   18.0   511.0   both  \n",
       "3     13.0  923.0  1401.0   both  \n",
       "4     19.0   10.0   629.0   both  "
      ]
     },
     "execution_count": 27,
     "metadata": {},
     "output_type": "execute_result"
    }
   ],
   "source": [
    "usa_m.head()"
   ]
  },
  {
   "cell_type": "markdown",
   "metadata": {},
   "source": [
    "### 3. Data cleaning"
   ]
  },
  {
   "cell_type": "code",
   "execution_count": 28,
   "metadata": {},
   "outputs": [
    {
     "data": {
      "text/plain": [
       "STATE_NAME       0\n",
       "STATE_FIPS       0\n",
       "STATE_ABBR       0\n",
       "geometry         0\n",
       "title            8\n",
       "rating           8\n",
       "calories      4125\n",
       "protein       4170\n",
       "fat           4191\n",
       "sodium        4127\n",
       "_merge           0\n",
       "dtype: int64"
      ]
     },
     "execution_count": 28,
     "metadata": {},
     "output_type": "execute_result"
    }
   ],
   "source": [
    "# Check for missing values.\n",
    "\n",
    "usa_m.isnull().sum()"
   ]
  },
  {
   "cell_type": "code",
   "execution_count": 29,
   "metadata": {},
   "outputs": [],
   "source": [
    "# Remove the 8 observations that don't have a title or rating.\n",
    "\n",
    "usa_clean = usa_m[usa_m['title'].isnull() == False]"
   ]
  },
  {
   "cell_type": "code",
   "execution_count": 30,
   "metadata": {},
   "outputs": [
    {
     "data": {
      "text/plain": [
       "both          20052\n",
       "right_only        0\n",
       "left_only         0\n",
       "Name: _merge, dtype: int64"
      ]
     },
     "execution_count": 30,
     "metadata": {},
     "output_type": "execute_result"
    }
   ],
   "source": [
    "# By removing the 8 observations above, you also solved the problem of not having a full match after the merge.\n",
    "\n",
    "usa_clean['_merge'].value_counts(dropna = False)"
   ]
  },
  {
   "cell_type": "markdown",
   "metadata": {},
   "source": [
    "All the observations can be found in both data sets!"
   ]
  },
  {
   "cell_type": "code",
   "execution_count": 31,
   "metadata": {},
   "outputs": [
    {
     "data": {
      "text/plain": [
       "STATE_NAME       0\n",
       "STATE_FIPS       0\n",
       "STATE_ABBR       0\n",
       "geometry         0\n",
       "title            0\n",
       "rating           0\n",
       "calories      4117\n",
       "protein       4162\n",
       "fat           4183\n",
       "sodium        4119\n",
       "_merge           0\n",
       "dtype: int64"
      ]
     },
     "execution_count": 31,
     "metadata": {},
     "output_type": "execute_result"
    }
   ],
   "source": [
    "# See what's left to fix.\n",
    "\n",
    "usa_clean.isnull().sum()"
   ]
  },
  {
   "cell_type": "code",
   "execution_count": 32,
   "metadata": {},
   "outputs": [
    {
     "name": "stderr",
     "output_type": "stream",
     "text": [
      "C:\\Users\\asus\\Anaconda3\\lib\\site-packages\\pandas\\core\\generic.py:6245: SettingWithCopyWarning: \n",
      "A value is trying to be set on a copy of a slice from a DataFrame\n",
      "\n",
      "See the caveats in the documentation: https://pandas.pydata.org/pandas-docs/stable/user_guide/indexing.html#returning-a-view-versus-a-copy\n",
      "  self._update_inplace(new_data)\n"
     ]
    }
   ],
   "source": [
    "# Impute missing values with the median.\n",
    "\n",
    "usa_clean['calories'].fillna(usa_clean['calories'].median(), inplace=True)\n",
    "usa_clean['protein'].fillna(usa_clean['protein'].median(), inplace=True)\n",
    "usa_clean['fat'].fillna(usa_clean['fat'].median(), inplace=True)\n",
    "usa_clean['sodium'].fillna(usa_clean['sodium'].median(), inplace=True)"
   ]
  },
  {
   "cell_type": "code",
   "execution_count": 33,
   "metadata": {},
   "outputs": [
    {
     "data": {
      "text/plain": [
       "STATE_NAME    0\n",
       "STATE_FIPS    0\n",
       "STATE_ABBR    0\n",
       "geometry      0\n",
       "title         0\n",
       "rating        0\n",
       "calories      0\n",
       "protein       0\n",
       "fat           0\n",
       "sodium        0\n",
       "_merge        0\n",
       "dtype: int64"
      ]
     },
     "execution_count": 33,
     "metadata": {},
     "output_type": "execute_result"
    }
   ],
   "source": [
    "# Last check for NaN.\n",
    "\n",
    "usa_clean.isnull().sum()"
   ]
  },
  {
   "cell_type": "markdown",
   "metadata": {},
   "source": [
    "##### Duplicates check"
   ]
  },
  {
   "cell_type": "code",
   "execution_count": 34,
   "metadata": {},
   "outputs": [],
   "source": [
    "dups = usa_clean.duplicated()"
   ]
  },
  {
   "cell_type": "code",
   "execution_count": 35,
   "metadata": {},
   "outputs": [
    {
     "data": {
      "text/plain": [
       "(20052,)"
      ]
     },
     "execution_count": 35,
     "metadata": {},
     "output_type": "execute_result"
    }
   ],
   "source": [
    "dups.shape # No dups"
   ]
  },
  {
   "cell_type": "markdown",
   "metadata": {},
   "source": [
    "##### Extreme values checks"
   ]
  },
  {
   "cell_type": "code",
   "execution_count": 36,
   "metadata": {},
   "outputs": [
    {
     "data": {
      "text/plain": [
       "<matplotlib.axes._subplots.AxesSubplot at 0x1ca91bd4b08>"
      ]
     },
     "execution_count": 36,
     "metadata": {},
     "output_type": "execute_result"
    },
    {
     "data": {
      "image/png": "[encoded data removed]",
      "text/plain": [
       "<Figure size 432x288 with 1 Axes>"
      ]
     },
     "metadata": {
      "needs_background": "light"
     },
     "output_type": "display_data"
    }
   ],
   "source": [
    "sns.distplot(usa_clean['fat'], bins=20) # Shows extreme values for \"fat\""
   ]
  },
  {
   "cell_type": "code",
   "execution_count": 37,
   "metadata": {
    "scrolled": true
   },
   "outputs": [
    {
     "data": {
      "text/html": [
       "<div>\n",
       "<style scoped>\n",
       "    .dataframe tbody tr th:only-of-type {\n",
       "        vertical-align: middle;\n",
       "    }\n",
       "\n",
       "    .dataframe tbody tr th {\n",
       "        vertical-align: top;\n",
       "    }\n",
       "\n",
       "    .dataframe thead th {\n",
       "        text-align: right;\n",
       "    }\n",
       "</style>\n",
       "<table border=\"1\" class=\"dataframe\">\n",
       "  <thead>\n",
       "    <tr style=\"text-align: right;\">\n",
       "      <th></th>\n",
       "      <th>STATE_NAME</th>\n",
       "      <th>STATE_FIPS</th>\n",
       "      <th>STATE_ABBR</th>\n",
       "      <th>geometry</th>\n",
       "      <th>title</th>\n",
       "      <th>rating</th>\n",
       "      <th>calories</th>\n",
       "      <th>protein</th>\n",
       "      <th>fat</th>\n",
       "      <th>sodium</th>\n",
       "      <th>_merge</th>\n",
       "    </tr>\n",
       "  </thead>\n",
       "  <tbody>\n",
       "    <tr>\n",
       "      <th>1814</th>\n",
       "      <td>alabama</td>\n",
       "      <td>01</td>\n",
       "      <td>AL</td>\n",
       "      <td>POLYGON ((-85.07007 31.98070, -85.11515 31.907...</td>\n",
       "      <td>Rice Pilaf with Lamb, Carrots, and Raisins</td>\n",
       "      <td>5.000</td>\n",
       "      <td>4157357.0</td>\n",
       "      <td>236489.0</td>\n",
       "      <td>221495.0</td>\n",
       "      <td>3134853.0</td>\n",
       "      <td>both</td>\n",
       "    </tr>\n",
       "    <tr>\n",
       "      <th>2329</th>\n",
       "      <td>alabama</td>\n",
       "      <td>01</td>\n",
       "      <td>AL</td>\n",
       "      <td>POLYGON ((-85.07007 31.98070, -85.11515 31.907...</td>\n",
       "      <td>Bacon-Wrapped Trout Stuffed with Balsamic Onio...</td>\n",
       "      <td>4.375</td>\n",
       "      <td>12010.0</td>\n",
       "      <td>403.0</td>\n",
       "      <td>1115.0</td>\n",
       "      <td>18212.0</td>\n",
       "      <td>both</td>\n",
       "    </tr>\n",
       "    <tr>\n",
       "      <th>3440</th>\n",
       "      <td>alabama</td>\n",
       "      <td>01</td>\n",
       "      <td>AL</td>\n",
       "      <td>POLYGON ((-85.07007 31.98070, -85.11515 31.907...</td>\n",
       "      <td>Lamb Köfte with Tarator Sauce</td>\n",
       "      <td>5.000</td>\n",
       "      <td>4518216.0</td>\n",
       "      <td>166471.0</td>\n",
       "      <td>44198.0</td>\n",
       "      <td>7540990.0</td>\n",
       "      <td>both</td>\n",
       "    </tr>\n",
       "    <tr>\n",
       "      <th>3734</th>\n",
       "      <td>alabama</td>\n",
       "      <td>01</td>\n",
       "      <td>AL</td>\n",
       "      <td>POLYGON ((-85.07007 31.98070, -85.11515 31.907...</td>\n",
       "      <td>Braised Short Ribs with Red Wine Gravy</td>\n",
       "      <td>3.750</td>\n",
       "      <td>19576.0</td>\n",
       "      <td>723.0</td>\n",
       "      <td>1818.0</td>\n",
       "      <td>2950.0</td>\n",
       "      <td>both</td>\n",
       "    </tr>\n",
       "    <tr>\n",
       "      <th>5537</th>\n",
       "      <td>alabama</td>\n",
       "      <td>01</td>\n",
       "      <td>AL</td>\n",
       "      <td>POLYGON ((-85.07007 31.98070, -85.11515 31.907...</td>\n",
       "      <td>Caramelized Apple and Pear Pie</td>\n",
       "      <td>3.125</td>\n",
       "      <td>3358029.0</td>\n",
       "      <td>58324.0</td>\n",
       "      <td>186642.0</td>\n",
       "      <td>3449373.0</td>\n",
       "      <td>both</td>\n",
       "    </tr>\n",
       "    <tr>\n",
       "      <th>6724</th>\n",
       "      <td>alabama</td>\n",
       "      <td>01</td>\n",
       "      <td>AL</td>\n",
       "      <td>POLYGON ((-85.07007 31.98070, -85.11515 31.907...</td>\n",
       "      <td>Deep-Dish Wild Blueberry Pie</td>\n",
       "      <td>4.375</td>\n",
       "      <td>29997918.0</td>\n",
       "      <td>200210.0</td>\n",
       "      <td>1716279.0</td>\n",
       "      <td>27570999.0</td>\n",
       "      <td>both</td>\n",
       "    </tr>\n",
       "    <tr>\n",
       "      <th>6989</th>\n",
       "      <td>alabama</td>\n",
       "      <td>01</td>\n",
       "      <td>AL</td>\n",
       "      <td>POLYGON ((-85.07007 31.98070, -85.11515 31.907...</td>\n",
       "      <td>Braised Orange-Ginger Short Ribs with Dried Ap...</td>\n",
       "      <td>4.375</td>\n",
       "      <td>16050.0</td>\n",
       "      <td>592.0</td>\n",
       "      <td>1480.0</td>\n",
       "      <td>2629.0</td>\n",
       "      <td>both</td>\n",
       "    </tr>\n",
       "    <tr>\n",
       "      <th>7250</th>\n",
       "      <td>alabama</td>\n",
       "      <td>01</td>\n",
       "      <td>AL</td>\n",
       "      <td>POLYGON ((-85.07007 31.98070, -85.11515 31.907...</td>\n",
       "      <td>Chocolate-Almond Pie</td>\n",
       "      <td>3.125</td>\n",
       "      <td>3358273.0</td>\n",
       "      <td>58334.0</td>\n",
       "      <td>186660.0</td>\n",
       "      <td>3449512.0</td>\n",
       "      <td>both</td>\n",
       "    </tr>\n",
       "    <tr>\n",
       "      <th>8495</th>\n",
       "      <td>alabama</td>\n",
       "      <td>01</td>\n",
       "      <td>AL</td>\n",
       "      <td>POLYGON ((-85.07007 31.98070, -85.11515 31.907...</td>\n",
       "      <td>Grilled Lamb Chops with Porcini Mustard</td>\n",
       "      <td>5.000</td>\n",
       "      <td>24117.0</td>\n",
       "      <td>940.0</td>\n",
       "      <td>2228.0</td>\n",
       "      <td>4382.0</td>\n",
       "      <td>both</td>\n",
       "    </tr>\n",
       "    <tr>\n",
       "      <th>9157</th>\n",
       "      <td>alabama</td>\n",
       "      <td>01</td>\n",
       "      <td>AL</td>\n",
       "      <td>POLYGON ((-85.07007 31.98070, -85.11515 31.907...</td>\n",
       "      <td>Grilled Cumin Chicken Breasts with Avocado Salsa</td>\n",
       "      <td>3.750</td>\n",
       "      <td>22312.0</td>\n",
       "      <td>332.0</td>\n",
       "      <td>1007.0</td>\n",
       "      <td>13820.0</td>\n",
       "      <td>both</td>\n",
       "    </tr>\n",
       "    <tr>\n",
       "      <th>9976</th>\n",
       "      <td>alabama</td>\n",
       "      <td>01</td>\n",
       "      <td>AL</td>\n",
       "      <td>POLYGON ((-85.07007 31.98070, -85.11515 31.907...</td>\n",
       "      <td>Rice Pilaf with Lamb, Carrots, and Raisins</td>\n",
       "      <td>5.000</td>\n",
       "      <td>4157357.0</td>\n",
       "      <td>236489.0</td>\n",
       "      <td>221495.0</td>\n",
       "      <td>3134853.0</td>\n",
       "      <td>both</td>\n",
       "    </tr>\n",
       "    <tr>\n",
       "      <th>10722</th>\n",
       "      <td>alabama</td>\n",
       "      <td>01</td>\n",
       "      <td>AL</td>\n",
       "      <td>POLYGON ((-85.07007 31.98070, -85.11515 31.907...</td>\n",
       "      <td>Braised Duck Legs with Shallots and Parsnips</td>\n",
       "      <td>4.375</td>\n",
       "      <td>16761.0</td>\n",
       "      <td>477.0</td>\n",
       "      <td>1610.0</td>\n",
       "      <td>3097.0</td>\n",
       "      <td>both</td>\n",
       "    </tr>\n",
       "    <tr>\n",
       "      <th>11573</th>\n",
       "      <td>alabama</td>\n",
       "      <td>01</td>\n",
       "      <td>AL</td>\n",
       "      <td>POLYGON ((-85.07007 31.98070, -85.11515 31.907...</td>\n",
       "      <td>Pear-Cranberry Mincemeat Lattice Pie</td>\n",
       "      <td>4.375</td>\n",
       "      <td>30111218.0</td>\n",
       "      <td>200968.0</td>\n",
       "      <td>1722763.0</td>\n",
       "      <td>27675110.0</td>\n",
       "      <td>both</td>\n",
       "    </tr>\n",
       "    <tr>\n",
       "      <th>12276</th>\n",
       "      <td>alabama</td>\n",
       "      <td>01</td>\n",
       "      <td>AL</td>\n",
       "      <td>POLYGON ((-85.07007 31.98070, -85.11515 31.907...</td>\n",
       "      <td>Grilled Cumin Chicken Breasts with Avocado Salsa</td>\n",
       "      <td>3.750</td>\n",
       "      <td>22312.0</td>\n",
       "      <td>332.0</td>\n",
       "      <td>1007.0</td>\n",
       "      <td>13820.0</td>\n",
       "      <td>both</td>\n",
       "    </tr>\n",
       "    <tr>\n",
       "      <th>14693</th>\n",
       "      <td>alabama</td>\n",
       "      <td>01</td>\n",
       "      <td>AL</td>\n",
       "      <td>POLYGON ((-85.07007 31.98070, -85.11515 31.907...</td>\n",
       "      <td>Lamb Chops Scottadito\\r\\n                With ...</td>\n",
       "      <td>0.000</td>\n",
       "      <td>11453.0</td>\n",
       "      <td>447.0</td>\n",
       "      <td>1054.0</td>\n",
       "      <td>1749.0</td>\n",
       "      <td>both</td>\n",
       "    </tr>\n",
       "    <tr>\n",
       "      <th>16034</th>\n",
       "      <td>alabama</td>\n",
       "      <td>01</td>\n",
       "      <td>AL</td>\n",
       "      <td>POLYGON ((-85.07007 31.98070, -85.11515 31.907...</td>\n",
       "      <td>Grilled Cumin Chicken Breasts with Avocado Salsa</td>\n",
       "      <td>3.750</td>\n",
       "      <td>22312.0</td>\n",
       "      <td>332.0</td>\n",
       "      <td>1007.0</td>\n",
       "      <td>13820.0</td>\n",
       "      <td>both</td>\n",
       "    </tr>\n",
       "    <tr>\n",
       "      <th>19127</th>\n",
       "      <td>alabama</td>\n",
       "      <td>01</td>\n",
       "      <td>AL</td>\n",
       "      <td>POLYGON ((-85.07007 31.98070, -85.11515 31.907...</td>\n",
       "      <td>Grilled Lamb Chops with Porcini Mustard</td>\n",
       "      <td>5.000</td>\n",
       "      <td>24117.0</td>\n",
       "      <td>940.0</td>\n",
       "      <td>2228.0</td>\n",
       "      <td>4382.0</td>\n",
       "      <td>both</td>\n",
       "    </tr>\n",
       "    <tr>\n",
       "      <th>19592</th>\n",
       "      <td>alabama</td>\n",
       "      <td>01</td>\n",
       "      <td>AL</td>\n",
       "      <td>POLYGON ((-85.07007 31.98070, -85.11515 31.907...</td>\n",
       "      <td>Apricot, Cranberry and Walnut Pie</td>\n",
       "      <td>4.375</td>\n",
       "      <td>13062948.0</td>\n",
       "      <td>87188.0</td>\n",
       "      <td>747374.0</td>\n",
       "      <td>12005810.0</td>\n",
       "      <td>both</td>\n",
       "    </tr>\n",
       "  </tbody>\n",
       "</table>\n",
       "</div>"
      ],
      "text/plain": [
       "      STATE_NAME STATE_FIPS STATE_ABBR  \\\n",
       "1814     alabama         01         AL   \n",
       "2329     alabama         01         AL   \n",
       "3440     alabama         01         AL   \n",
       "3734     alabama         01         AL   \n",
       "5537     alabama         01         AL   \n",
       "6724     alabama         01         AL   \n",
       "6989     alabama         01         AL   \n",
       "7250     alabama         01         AL   \n",
       "8495     alabama         01         AL   \n",
       "9157     alabama         01         AL   \n",
       "9976     alabama         01         AL   \n",
       "10722    alabama         01         AL   \n",
       "11573    alabama         01         AL   \n",
       "12276    alabama         01         AL   \n",
       "14693    alabama         01         AL   \n",
       "16034    alabama         01         AL   \n",
       "19127    alabama         01         AL   \n",
       "19592    alabama         01         AL   \n",
       "\n",
       "                                                geometry  \\\n",
       "1814   POLYGON ((-85.07007 31.98070, -85.11515 31.907...   \n",
       "2329   POLYGON ((-85.07007 31.98070, -85.11515 31.907...   \n",
       "3440   POLYGON ((-85.07007 31.98070, -85.11515 31.907...   \n",
       "3734   POLYGON ((-85.07007 31.98070, -85.11515 31.907...   \n",
       "5537   POLYGON ((-85.07007 31.98070, -85.11515 31.907...   \n",
       "6724   POLYGON ((-85.07007 31.98070, -85.11515 31.907...   \n",
       "6989   POLYGON ((-85.07007 31.98070, -85.11515 31.907...   \n",
       "7250   POLYGON ((-85.07007 31.98070, -85.11515 31.907...   \n",
       "8495   POLYGON ((-85.07007 31.98070, -85.11515 31.907...   \n",
       "9157   POLYGON ((-85.07007 31.98070, -85.11515 31.907...   \n",
       "9976   POLYGON ((-85.07007 31.98070, -85.11515 31.907...   \n",
       "10722  POLYGON ((-85.07007 31.98070, -85.11515 31.907...   \n",
       "11573  POLYGON ((-85.07007 31.98070, -85.11515 31.907...   \n",
       "12276  POLYGON ((-85.07007 31.98070, -85.11515 31.907...   \n",
       "14693  POLYGON ((-85.07007 31.98070, -85.11515 31.907...   \n",
       "16034  POLYGON ((-85.07007 31.98070, -85.11515 31.907...   \n",
       "19127  POLYGON ((-85.07007 31.98070, -85.11515 31.907...   \n",
       "19592  POLYGON ((-85.07007 31.98070, -85.11515 31.907...   \n",
       "\n",
       "                                                   title  rating    calories  \\\n",
       "1814         Rice Pilaf with Lamb, Carrots, and Raisins    5.000   4157357.0   \n",
       "2329   Bacon-Wrapped Trout Stuffed with Balsamic Onio...   4.375     12010.0   \n",
       "3440                      Lamb Köfte with Tarator Sauce    5.000   4518216.0   \n",
       "3734             Braised Short Ribs with Red Wine Gravy    3.750     19576.0   \n",
       "5537                     Caramelized Apple and Pear Pie    3.125   3358029.0   \n",
       "6724                       Deep-Dish Wild Blueberry Pie    4.375  29997918.0   \n",
       "6989   Braised Orange-Ginger Short Ribs with Dried Ap...   4.375     16050.0   \n",
       "7250                               Chocolate-Almond Pie    3.125   3358273.0   \n",
       "8495            Grilled Lamb Chops with Porcini Mustard    5.000     24117.0   \n",
       "9157   Grilled Cumin Chicken Breasts with Avocado Salsa    3.750     22312.0   \n",
       "9976         Rice Pilaf with Lamb, Carrots, and Raisins    5.000   4157357.0   \n",
       "10722      Braised Duck Legs with Shallots and Parsnips    4.375     16761.0   \n",
       "11573              Pear-Cranberry Mincemeat Lattice Pie    4.375  30111218.0   \n",
       "12276  Grilled Cumin Chicken Breasts with Avocado Salsa    3.750     22312.0   \n",
       "14693  Lamb Chops Scottadito\\r\\n                With ...   0.000     11453.0   \n",
       "16034  Grilled Cumin Chicken Breasts with Avocado Salsa    3.750     22312.0   \n",
       "19127           Grilled Lamb Chops with Porcini Mustard    5.000     24117.0   \n",
       "19592                 Apricot, Cranberry and Walnut Pie    4.375  13062948.0   \n",
       "\n",
       "        protein        fat      sodium _merge  \n",
       "1814   236489.0   221495.0   3134853.0   both  \n",
       "2329      403.0     1115.0     18212.0   both  \n",
       "3440   166471.0    44198.0   7540990.0   both  \n",
       "3734      723.0     1818.0      2950.0   both  \n",
       "5537    58324.0   186642.0   3449373.0   both  \n",
       "6724   200210.0  1716279.0  27570999.0   both  \n",
       "6989      592.0     1480.0      2629.0   both  \n",
       "7250    58334.0   186660.0   3449512.0   both  \n",
       "8495      940.0     2228.0      4382.0   both  \n",
       "9157      332.0     1007.0     13820.0   both  \n",
       "9976   236489.0   221495.0   3134853.0   both  \n",
       "10722     477.0     1610.0      3097.0   both  \n",
       "11573  200968.0  1722763.0  27675110.0   both  \n",
       "12276     332.0     1007.0     13820.0   both  \n",
       "14693     447.0     1054.0      1749.0   both  \n",
       "16034     332.0     1007.0     13820.0   both  \n",
       "19127     940.0     2228.0      4382.0   both  \n",
       "19592   87188.0   747374.0  12005810.0   both  "
      ]
     },
     "execution_count": 37,
     "metadata": {},
     "output_type": "execute_result"
    }
   ],
   "source": [
    "# Check how many extreme values.\n",
    "\n",
    "usa_clean[usa_clean['fat'] >1000]"
   ]
  },
  {
   "cell_type": "code",
   "execution_count": 38,
   "metadata": {},
   "outputs": [],
   "source": [
    "# Clean extreme values.\n",
    "\n",
    "usa_edit = usa_clean[usa_clean['fat'] < 500] \n",
    "# 500 was picked because it would be impossible for a single meal to have over 500 grams of fat!"
   ]
  },
  {
   "cell_type": "code",
   "execution_count": 39,
   "metadata": {},
   "outputs": [
    {
     "data": {
      "text/plain": [
       "(20012, 11)"
      ]
     },
     "execution_count": 39,
     "metadata": {},
     "output_type": "execute_result"
    }
   ],
   "source": [
    "usa_edit.shape"
   ]
  },
  {
   "cell_type": "code",
   "execution_count": 40,
   "metadata": {},
   "outputs": [
    {
     "name": "stderr",
     "output_type": "stream",
     "text": [
      "C:\\Users\\asus\\Anaconda3\\lib\\site-packages\\ipykernel_launcher.py:3: SettingWithCopyWarning: \n",
      "A value is trying to be set on a copy of a slice from a DataFrame.\n",
      "Try using .loc[row_indexer,col_indexer] = value instead\n",
      "\n",
      "See the caveats in the documentation: https://pandas.pydata.org/pandas-docs/stable/user_guide/indexing.html#returning-a-view-versus-a-copy\n",
      "  This is separate from the ipykernel package so we can avoid doing imports until\n"
     ]
    }
   ],
   "source": [
    "# Create a \"cal_per_portion\" column.\n",
    "\n",
    "usa_edit['cal_per_portion'] = usa_edit['calories']*4"
   ]
  },
  {
   "cell_type": "code",
   "execution_count": 41,
   "metadata": {
    "scrolled": true
   },
   "outputs": [
    {
     "data": {
      "text/plain": [
       "<matplotlib.axes._subplots.AxesSubplot at 0x1ca92e46d88>"
      ]
     },
     "execution_count": 41,
     "metadata": {},
     "output_type": "execute_result"
    },
    {
     "data": {
      "image/png": "[encoded data removed]",
      "text/plain": [
       "<Figure size 432x288 with 1 Axes>"
      ]
     },
     "metadata": {
      "needs_background": "light"
     },
     "output_type": "display_data"
    }
   ],
   "source": [
    "sns.distplot(usa_edit['cal_per_portion'], bins=20)  # Shows extreme values for \"cal_per_portion\""
   ]
  },
  {
   "cell_type": "code",
   "execution_count": 42,
   "metadata": {},
   "outputs": [],
   "source": [
    "# Clean extreme values in \"cal_per_portion\"\n",
    "\n",
    "usa_edit = usa_edit[usa_edit['cal_per_portion'] < 8000]"
   ]
  },
  {
   "cell_type": "code",
   "execution_count": 43,
   "metadata": {},
   "outputs": [
    {
     "data": {
      "text/plain": [
       "<matplotlib.axes._subplots.AxesSubplot at 0x1ca92f5aac8>"
      ]
     },
     "execution_count": 43,
     "metadata": {},
     "output_type": "execute_result"
    },
    {
     "data": {
      "image/png": "[encoded data removed]",
      "text/plain": [
       "<Figure size 432x288 with 1 Axes>"
      ]
     },
     "metadata": {
      "needs_background": "light"
     },
     "output_type": "display_data"
    }
   ],
   "source": [
    "# Check the rating variable.\n",
    "\n",
    "sns.distplot(usa_edit['rating'], bins=20)"
   ]
  },
  {
   "cell_type": "code",
   "execution_count": 44,
   "metadata": {},
   "outputs": [],
   "source": [
    "# Select only entries with a non-zero rating.\n",
    "\n",
    "usa_edit = usa_edit[usa_edit['rating'] >= 1]"
   ]
  },
  {
   "cell_type": "code",
   "execution_count": 45,
   "metadata": {},
   "outputs": [
    {
     "data": {
      "text/plain": [
       "STATE_NAME           object\n",
       "STATE_FIPS           object\n",
       "STATE_ABBR           object\n",
       "geometry           geometry\n",
       "title                object\n",
       "rating              float64\n",
       "calories            float64\n",
       "protein             float64\n",
       "fat                 float64\n",
       "sodium              float64\n",
       "_merge             category\n",
       "cal_per_portion     float64\n",
       "dtype: object"
      ]
     },
     "execution_count": 45,
     "metadata": {},
     "output_type": "execute_result"
    }
   ],
   "source": [
    "usa_edit.dtypes"
   ]
  },
  {
   "cell_type": "markdown",
   "metadata": {},
   "source": [
    "##### Saving the GeoDataFrame"
   ]
  },
  {
   "cell_type": "code",
   "execution_count": 46,
   "metadata": {},
   "outputs": [],
   "source": [
    "usa_edit.drop(columns =\"_merge\", inplace = True) \n",
    "# It's necessary to drop the categorical column; otherwise, the `to_file` function breaks."
   ]
  },
  {
   "cell_type": "code",
   "execution_count": 47,
   "metadata": {},
   "outputs": [],
   "source": [
    "out = r\"C:/Users/asus/Documents/Career Foundry/Achievement 6/6.3 Images & Assets/Data/Calories.shp\"\n",
    "usa_edit.to_file(out)"
   ]
  },
  {
   "cell_type": "markdown",
   "metadata": {},
   "source": [
    "### Plotting a choropleth"
   ]
  },
  {
   "cell_type": "markdown",
   "metadata": {},
   "source": [
    "#### A. Using Geoplot"
   ]
  },
  {
   "cell_type": "code",
   "execution_count": 49,
   "metadata": {},
   "outputs": [
    {
     "data": {
      "image/png": "[encoded data removed]",
      "text/plain": [
       "<Figure size 1080x1080 with 1 Axes>"
      ]
     },
     "metadata": {
      "needs_background": "light"
     },
     "output_type": "display_data"
    }
   ],
   "source": [
    "gp = geoplot.choropleth(\n",
    "    usa_edit, hue = usa_edit['rating'], scheme = None,\n",
    "    cmap='Reds', figsize=(15, 15)\n",
    ")"
   ]
  },
  {
   "cell_type": "markdown",
   "metadata": {},
   "source": [
    "#### B. Using matplotlib"
   ]
  },
  {
   "cell_type": "code",
   "execution_count": 50,
   "metadata": {},
   "outputs": [
    {
     "data": {
      "image/png": "[encoded data removed]",
      "text/plain": [
       "<Figure size 1080x1080 with 1 Axes>"
      ]
     },
     "metadata": {
      "needs_background": "light"
     },
     "output_type": "display_data"
    }
   ],
   "source": [
    "# Create a subplot with `fig` and `ax`.\n",
    "fig, ax = plt.subplots(1, figsize=(15, 15))"
   ]
  },
  {
   "cell_type": "code",
   "execution_count": 51,
   "metadata": {},
   "outputs": [
    {
     "data": {
      "image/png": "[encoded data removed]",
      "text/plain": [
       "<Figure size 432x288 with 1 Axes>"
      ]
     },
     "metadata": {
      "needs_background": "light"
     },
     "output_type": "display_data"
    }
   ],
   "source": [
    "plt.title('Best rated meals in the US', size=30)\n",
    "tl = usa_edit.plot(column='rating',\n",
    "cmap='Reds',      # Color map for the states                     \n",
    "             linewidth=0.6,      # Line width for state borders\n",
    "             ax=ax,              # Plotting the map on `ax`\n",
    "             edgecolor='black'); # State border colors"
   ]
  },
  {
   "cell_type": "code",
   "execution_count": 52,
   "metadata": {},
   "outputs": [],
   "source": [
    "c_bar_colors = plt.cm.ScalarMappable(cmap='Reds', norm=plt.Normalize(vmin=usa_edit['rating'].min(), vmax=usa_edit['rating'].max()))\n",
    "\n",
    "# Plot the colorbar.\n",
    "color_bar = fig.colorbar(c_bar_colors)"
   ]
  },
  {
   "cell_type": "code",
   "execution_count": 53,
   "metadata": {},
   "outputs": [
    {
     "data": {
      "image/png": "[encoded data removed]",
      "text/plain": [
       "<Figure size 1080x1080 with 2 Axes>"
      ]
     },
     "execution_count": 53,
     "metadata": {},
     "output_type": "execute_result"
    }
   ],
   "source": [
    "tl.figure"
   ]
  }
 ],
 "metadata": {
  "kernelspec": {
   "display_name": "Python 3",
   "language": "python",
   "name": "python3"
  },
  "language_info": {
   "codemirror_mode": {
    "name": "ipython",
    "version": 3
   },
   "file_extension": ".py",
   "mimetype": "text/x-python",
   "name": "python",
   "nbconvert_exporter": "python",
   "pygments_lexer": "ipython3",
   "version": "3.8.5"
  }
 },
 "nbformat": 4,
 "nbformat_minor": 2
}
